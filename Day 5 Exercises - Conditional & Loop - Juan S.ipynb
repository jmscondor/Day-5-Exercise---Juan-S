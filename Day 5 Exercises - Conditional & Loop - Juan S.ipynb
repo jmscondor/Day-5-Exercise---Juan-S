{
 "cells": [
  {
   "cell_type": "markdown",
   "metadata": {},
   "source": [
    "# Exercise 1\n",
    "Make a program that evaluates the user's input. Prompt the user for a yes or no question. \n",
    "\n",
    "If the user answers yes, tell the user, they won 1 million dollars. \n",
    "If not, tell them that they need to go and wash the dishes. \n",
    "\n",
    "If they don't give one of those answers, tell them they must enter a correct answer and rerun the program.\n",
    "\n",
    "#### Challenge\n",
    "Now, make your program loop until the user wants to quit."
   ]
  },
  {
   "cell_type": "code",
   "execution_count": 3,
   "metadata": {},
   "outputs": [
    {
     "name": "stdout",
     "output_type": "stream",
     "text": [
      "do you like this class?h\n",
      "You must Answer 'yes' or 'no'.  Please try again!\n"
     ]
    }
   ],
   "source": [
    "answer = input(\"do you like this class?\")\n",
    "if (answer == \"yes\") :\n",
    "    print(\"You've won $1 million!\")\n",
    "elif answer == \"no\":  \n",
    "    print(\"Go wash dishes!\")\n",
    "else:\n",
    "    print(\"You must Answer 'yes' or 'no'.  Please try again!\") \n",
    "    "
   ]
  },
  {
   "cell_type": "code",
   "execution_count": 21,
   "metadata": {},
   "outputs": [
    {
     "name": "stdout",
     "output_type": "stream",
     "text": [
      "do you like this class? (Press 'q' to quit)yes\n",
      "You've won $1 million!\n",
      "do you like this class? (Press 'q' to quit)no\n",
      "Go wash dishes!\n",
      "do you like this class? (Press 'q' to quit)q\n",
      "goodbye\n"
     ]
    }
   ],
   "source": [
    "answer = input(\"do you like this class? (Press 'q' to quit)\")\n",
    "while (answer != 'q'): #!= is no equal to\n",
    "    if (answer == \"yes\"):\n",
    "        print(\"You've won $1 million!\")\n",
    "    elif answer == \"no\":  \n",
    "        print(\"Go wash dishes!\")\n",
    "    else:\n",
    "        print(\"You must Answer 'yes' or 'no'.  Please try again!\")\n",
    "    answer = input(\"do you like this class? (Press 'q' to quit)\")  \n",
    "print (\"goodbye\")\n"
   ]
  },
  {
   "cell_type": "markdown",
   "metadata": {},
   "source": [
    "# Exercise 2\n",
    "Write a program to get two integers from the user. Then, determine the maximum, minimum, and average of those two numbers. Finally, print the result in a nice formatted string. "
   ]
  },
  {
   "cell_type": "code",
   "execution_count": 25,
   "metadata": {},
   "outputs": [
    {
     "name": "stdout",
     "output_type": "stream",
     "text": [
      "enter the first number 56\n",
      "enter the second number 86\n",
      "first number is equal to the second number}!\n",
      "Maximum: 86 Minimum: 56 Average 71.0\n"
     ]
    }
   ],
   "source": [
    "first = int(input(\"enter the first number \"))\n",
    "second = int(input(\"enter the second number \"))\n",
    "\n",
    "if (first >= second):\n",
    "    print (\"first number is larger than the second number}!\")\n",
    "    max_no = first \n",
    "    min_no = second\n",
    "else:\n",
    "    max_no = second \n",
    "    min_no = first\n",
    "\n",
    "    print (\"first number is equal to the second number}!\")\n",
    "    \n",
    "avg = (first + second) / 2\n",
    "\n",
    "print(f\"Maximum: {max_no} Minimum: {min_no} Average {avg}\")\n"
   ]
  },
  {
   "cell_type": "code",
   "execution_count": null,
   "metadata": {},
   "outputs": [],
   "source": []
  },
  {
   "cell_type": "markdown",
   "metadata": {},
   "source": [
    "# Exercise 3\n",
    "Write a program to get <b>three</b> integers from the user. Then, determine the maximum, minimum, and average of those <b>three</b> numbers. Finally, print the result in a nice formatted string."
   ]
  },
  {
   "cell_type": "code",
   "execution_count": 19,
   "metadata": {},
   "outputs": [
    {
     "name": "stdout",
     "output_type": "stream",
     "text": [
      "enter the first number 45\n",
      "enter the second number 85\n",
      "enter the third number 45\n",
      "Maximum: 85 Minimum: 45 Average 58.33\n"
     ]
    }
   ],
   "source": [
    "first = int(input(\"enter the first number \"))\n",
    "second = int(input(\"enter the second number \"))\n",
    "third = int(input(\"enter the third number \"))\n",
    "\n",
    "if (first >= second and first >= third):  \n",
    "    max_no = first \n",
    "    if (second >= third):\n",
    "        min_no = third\n",
    "    else:  \n",
    "        min_no = second\n",
    "elif (second >= first and second >= third):  \n",
    "    max_no = second \n",
    "    if (first >= third):\n",
    "        min_no = third\n",
    "    else:  \n",
    "        min_no = first\n",
    "elif (third >= first and third >= second):  \n",
    "    max_no = third \n",
    "    if (first >= second):\n",
    "        min_no = second\n",
    "    else:  \n",
    "        min_no = first\n",
    "\n",
    "avg = (first + second + third) / 3\n",
    "\n",
    "print(f\"Maximum: {max_no} Minimum: {min_no} Average {avg:.2f}\")\n"
   ]
  },
  {
   "cell_type": "code",
   "execution_count": null,
   "metadata": {},
   "outputs": [],
   "source": []
  },
  {
   "cell_type": "markdown",
   "metadata": {},
   "source": [
    "# Exercise 4\n",
    "Ask the user a  <b>love</b> or <b>hate</b> question. \n",
    "If the user answers <b>love</b>, print out <i>I love python</i> 10 times using the for-loop. If the user responds <b>hate</b>, print out <i>I hate python</i> 10 times using the while loop.\n",
    "\n",
    "If the user inputs anything else, ask the user,  <i>Why are you being a bad user?</i>"
   ]
  },
  {
   "cell_type": "code",
   "execution_count": 54,
   "metadata": {},
   "outputs": [
    {
     "name": "stdout",
     "output_type": "stream",
     "text": [
      "do you 'love' or 'hate' Python? hate\n",
      "I hate python! I hate python! I hate python! I hate python! I hate python! I hate python! I hate python! I hate python! I hate python! I hate python! \n",
      "do you 'love' or 'hate' Python? love\n",
      "I love python! I love python! I love python! I love python! I love python! I love python! I love python! I love python! I love python! I love python! \n",
      "do you 'love' or 'hate' Python? safds\n",
      "Why are you being a bad user?\n",
      "do you 'love' or 'hate' Python? hfdghf\n",
      "Why are you being a bad user?\n",
      "do you 'love' or 'hate' Python? fas\n",
      "Why are you being a bad user?\n",
      "do you 'love' or 'hate' Python? gdfgd\n"
     ]
    }
   ],
   "source": [
    "for index in range (5) : \n",
    "    answer = input(\"do you 'love' or 'hate' Python? \")\n",
    "    if answer == \"love\":\n",
    "        print (f\"I love python! \" * 10)\n",
    "\n",
    "    elif (answer == \"hate\"):\n",
    "        print (f\"I hate python! \" * 10)\n",
    "           \n",
    "    else:\n",
    "        print (\"Why are you being a bad user?\")\n",
    "    \n",
    "answer = input(\"do you 'love' or 'hate' Python? \")         \n",
    "           "
   ]
  },
  {
   "cell_type": "code",
   "execution_count": null,
   "metadata": {},
   "outputs": [],
   "source": []
  },
  {
   "cell_type": "markdown",
   "metadata": {},
   "source": [
    "# Exercise 5\n",
    "Create a function for add, subtract, multiply, and divide and make a program \n",
    "that can choose between the four options and then takes in two numbers and gets the solution\n",
    "\n",
    "### Challenge\n",
    "Make the whole process loop until they enter in q during the option selection part."
   ]
  },
  {
   "cell_type": "code",
   "execution_count": 97,
   "metadata": {},
   "outputs": [
    {
     "name": "stdout",
     "output_type": "stream",
     "text": [
      "Enter the first number... 65\n",
      "Enter the second number... 45\n",
      "Do you want to add, subtract, multiply or divide? (type 'q' to quit)add\n",
      "The sum of 65 and 45 is equal to 110\n",
      "Enter the first number... 65\n",
      "Enter the second number... 55\n",
      "Do you want to add, subtract, multiply or divide? (type 'q' to quit)divide\n",
      "The division of  65 by 55 is equal to 1.1818181818181819\n",
      "Enter the first number... 89\n",
      "Enter the second number... 45\n",
      "Do you want to add, subtract, multiply or divide? (type 'q' to quit)q\n",
      "Goodbye\n"
     ]
    }
   ],
   "source": [
    "first = int(input(\"Enter the first number... \"))\n",
    "second = int(input(\"Enter the second number... \"))\n",
    "\n",
    "answer = input(\"Do you want to add, subtract, multiply or divide? (type 'q' to quit)\")\n",
    "\n",
    "while (answer != 'q'):\n",
    "      \n",
    "    if answer == \"add\":\n",
    "        print (f\"The sum of {first} and {second} is equal to {first + second}\")\n",
    "                \n",
    "    elif (answer == \"subtract\"):\n",
    "        print (f\"The difference between {first} and {second} is equal to {first - second}\")\n",
    "\n",
    "    elif (answer == \"multiply\"):\n",
    "        print (f\"The multiplication of {first} and {second} is equal to {first * second}\")\n",
    "\n",
    "    elif (answer == \"divide\"):\n",
    "        print (f\"The division of  {first} by {second} is equal to {first / second}\")\n",
    "        \n",
    "    else:\n",
    "        print (\"Why are you being a bad user and not selecting one of the four options or quitting?\")\n",
    "   \n",
    "    first = int(input(\"Enter the first number... \"))\n",
    "    second = int(input(\"Enter the second number... \"))\n",
    "\n",
    "    answer = input(\"Do you want to add, subtract, multiply or divide? (type 'q' to quit)\")\n",
    "        \n",
    "print(\"Goodbye\")"
   ]
  },
  {
   "cell_type": "code",
   "execution_count": null,
   "metadata": {},
   "outputs": [],
   "source": []
  },
  {
   "cell_type": "code",
   "execution_count": null,
   "metadata": {},
   "outputs": [],
   "source": []
  }
 ],
 "metadata": {
  "kernelspec": {
   "display_name": "Python 3 (ipykernel)",
   "language": "python",
   "name": "python3"
  },
  "language_info": {
   "codemirror_mode": {
    "name": "ipython",
    "version": 3
   },
   "file_extension": ".py",
   "mimetype": "text/x-python",
   "name": "python",
   "nbconvert_exporter": "python",
   "pygments_lexer": "ipython3",
   "version": "3.9.12"
  }
 },
 "nbformat": 4,
 "nbformat_minor": 2
}
